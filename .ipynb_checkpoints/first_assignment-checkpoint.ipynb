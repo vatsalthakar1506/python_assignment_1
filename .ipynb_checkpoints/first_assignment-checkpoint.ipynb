{
 "cells": [
  {
   "cell_type": "code",
   "execution_count": 3,
   "id": "86e801bb-dcc6-451c-ad9a-7a2eed73ad2d",
   "metadata": {
    "tags": []
   },
   "outputs": [
    {
     "name": "stdin",
     "output_type": "stream",
     "text": [
      "Enter String hello\n"
     ]
    },
    {
     "name": "stdout",
     "output_type": "stream",
     "text": [
      "olleh\n"
     ]
    }
   ],
   "source": [
    "# 1-Write a code to reverse a string\n",
    "\n",
    "string  = input(\"Enter String\")\n",
    "\n",
    "reverse_string = string[::-1]\n",
    "\n",
    "print(reverse_string)\n"
   ]
  },
  {
   "cell_type": "code",
   "execution_count": 17,
   "id": "49625c4f-5907-4275-a36e-19a3f5d3c0e8",
   "metadata": {
    "tags": []
   },
   "outputs": [
    {
     "name": "stdin",
     "output_type": "stream",
     "text": [
      "Enter String :  hello\n"
     ]
    },
    {
     "name": "stdout",
     "output_type": "stream",
     "text": [
      "The number of vowels in the string is: 2\n"
     ]
    }
   ],
   "source": [
    "# 2 Write a code to count the number of vowels in a string\n",
    "\n",
    "string = input (\"Enter String : \").lower()\n",
    "vowels = \"aeiou\"\n",
    "vowels_count = 0\n",
    "\n",
    "for char in string:\n",
    "    if char in vowels:\n",
    "        vowels_count+=1\n",
    "\n",
    "#Use List Comprehension\n",
    "# vowels_count = sum(1 for char in string if char in vowels)\n",
    "\n",
    "\n",
    "print(f\"The number of vowels in the string is: {vowels_count}\")"
   ]
  },
  {
   "cell_type": "code",
   "execution_count": null,
   "id": "8419f715-5558-4e3e-8675-37abfccad049",
   "metadata": {
    "tags": []
   },
   "outputs": [],
   "source": [
    "# 3  Write a code to check if a given string is a palindrome or not\n",
    "\n",
    "string  = input(\"Enter String : \").lower()\n",
    "\n",
    "if string == string[::-1]:\n",
    "    print(\"It's palindrom\")\n",
    "else:\n",
    "    print(\"Not Palindrom\")"
   ]
  },
  {
   "cell_type": "code",
   "execution_count": 4,
   "id": "4a0e2da5-1162-42aa-b4a5-6b23b4227aa9",
   "metadata": {},
   "outputs": [
    {
     "name": "stdin",
     "output_type": "stream",
     "text": [
      "Enter First String:  listen\n",
      "Enter Second:  silent\n"
     ]
    },
    {
     "name": "stdout",
     "output_type": "stream",
     "text": [
      "The strings are anagrams.\n"
     ]
    }
   ],
   "source": [
    "# 4 Write a code to check if two given strings are anagrams of each other\n",
    "\n",
    "word1 = input(\"Enter First String: \").lower()\n",
    "word2 = input(\"Enter Second: \").lower()\n",
    "\n",
    "\n",
    "check  = sorted(word1)==sorted(word2)\n",
    "if check:\n",
    "     print(\"The strings are anagrams.\")\n",
    "else:\n",
    "    print(\"The strings are not anagrams.\")        \n",
    "\n"
   ]
  },
  {
   "cell_type": "code",
   "execution_count": 17,
   "id": "e14ce959-d6fe-400b-8d22-6bcb7561cc72",
   "metadata": {},
   "outputs": [
    {
     "name": "stdout",
     "output_type": "stream",
     "text": [
      "All occurrences of [1, 3]\n"
     ]
    }
   ],
   "source": [
    "# 5 \u0012 Write a code to find all occurrences of a given substring within another string\u0012\n",
    "def occurrences(main_string,substring):\n",
    "    return [i for i  in range(len(main_string)) if main_string.startswith(substring,i)]\n",
    "    \n",
    "main_string = \"banana\"\n",
    "substring = \"ana\"\n",
    "\n",
    "result = occurrences(main_string,substring)\n",
    "\n",
    "print(f\"All occurrences of {result}\")\n"
   ]
  },
  {
   "cell_type": "code",
   "execution_count": null,
   "id": "cc38ebe0-3e44-4e64-80f4-274ff168629e",
   "metadata": {},
   "outputs": [],
   "source": []
  },
  {
   "cell_type": "code",
   "execution_count": 20,
   "id": "2b760b06-f10f-4d2f-86ce-587f03248772",
   "metadata": {},
   "outputs": [
    {
     "name": "stdin",
     "output_type": "stream",
     "text": [
      "Enter a string:  aadsadaaaaa\n"
     ]
    },
    {
     "name": "stdout",
     "output_type": "stream",
     "text": [
      "Original string: aadsadaaaaa\n"
     ]
    }
   ],
   "source": [
    "# 6$\u0012 Write a code to perform basic string compression using the counts of repeated characters\u0012\n",
    "\n",
    "\n",
    "s = input(\"Enter a string: \")\n",
    "\n",
    "\n",
    "compressed_string = \"\"\n",
    "current_char = s[0]\n",
    "count = 1\n",
    "\n",
    "for i in range(1, len(s)):\n",
    "    if s[i] == current_char:\n",
    "        count += 1\n",
    "    else:\n",
    "        compressed_string += current_char + str(count)\n",
    "        current_char = s[i]\n",
    "        count = 1\n",
    "\n",
    "compressed_string += current_char + str(count)\n",
    "\n",
    "if len(compressed_string) < len(s):\n",
    "    print(\"Compressed string:\", compressed_string)\n",
    "else:\n",
    "    print(\"Original string:\", s)\n",
    "\n"
   ]
  },
  {
   "cell_type": "code",
   "execution_count": 6,
   "id": "f3880b82-7dc9-4ff2-926f-993038274351",
   "metadata": {},
   "outputs": [
    {
     "name": "stdout",
     "output_type": "stream",
     "text": [
      "Unique\n"
     ]
    }
   ],
   "source": [
    "# 7  Write a code to determine if a string has all unique character\n",
    "\n",
    "def unique(string):\n",
    "    fix = set()\n",
    "    for char in string:\n",
    "        if char in fix:\n",
    "            return False\n",
    "        \n",
    "        fix.add(char)     \n",
    "            \n",
    "    return True    \n",
    "result = unique(\"abcdefz\")\n",
    "if result:\n",
    "    print(\"Unique\")\n",
    "else:\n",
    "    print(\"Not Unique\")\n",
    "    \n"
   ]
  },
  {
   "cell_type": "code",
   "execution_count": 18,
   "id": "44006840-be85-45d1-9f4e-25dbb139df26",
   "metadata": {},
   "outputs": [
    {
     "name": "stdout",
     "output_type": "stream",
     "text": [
      "data analystics\n"
     ]
    }
   ],
   "source": [
    "# 8 \b\u0012 Write a code to convert a given string to uppercase or lowercase\u0012\n",
    "def convert(string,to_upper=False):\n",
    "\n",
    "    result = \"\"\n",
    "\n",
    "    for char in string:\n",
    "        if to_upper:\n",
    "            result += char.upper()\n",
    "        else:\n",
    "            result += char.lower()\n",
    "            \n",
    "    return result\n",
    "\n",
    "input_string = \"DATA ANALYSTICS\"\n",
    "to_upper = True\n",
    "    \n",
    "converted = convert(input_string)\n",
    "print(converted)"
   ]
  },
  {
   "cell_type": "code",
   "execution_count": 25,
   "id": "8d28c5af-ba26-4f3d-a9ed-92304208eea3",
   "metadata": {},
   "outputs": [
    {
     "name": "stdin",
     "output_type": "stream",
     "text": [
      "Enter string hey there how are you\n"
     ]
    },
    {
     "name": "stdout",
     "output_type": "stream",
     "text": [
      "['hey', 'there', 'how', 'are', 'you']\n",
      "The number of words in the string is: 5\n"
     ]
    }
   ],
   "source": [
    "# 9  Write a code to count the number of words in a string\n",
    "input_string = input(\"Enter string\")\n",
    "def count(string):\n",
    "    words = string.split()\n",
    "   \n",
    "    return len(words)\n",
    "\n",
    "  \n",
    "word_count = count(input_string)\n",
    "print(f\"The number of words in the string is: {word_count}\")"
   ]
  },
  {
   "cell_type": "code",
   "execution_count": 4,
   "id": "49101ef9-dbf6-4020-881d-e7298f67ff44",
   "metadata": {},
   "outputs": [
    {
     "name": "stdout",
     "output_type": "stream",
     "text": [
      "hey there\n"
     ]
    }
   ],
   "source": [
    "#10 \"\u0006\u0012 Write a code to concatenate two strings without using the + operator\u0012\n",
    "\n",
    "def concatenate(str1,str2):\n",
    "    \n",
    "    string_list = [str1, str2]\n",
    "    compressed_string = ' '.join(string_list)\n",
    "    return compressed_string\n",
    "\n",
    "str1 = \"hey\"\n",
    "str2 = \"there\"\n",
    "result = concatenate(str1,str2)\n",
    "print(result)\n"
   ]
  },
  {
   "cell_type": "code",
   "execution_count": 11,
   "id": "fb6191db-bc1c-4c04-a7c0-6b66063dde63",
   "metadata": {},
   "outputs": [
    {
     "name": "stdout",
     "output_type": "stream",
     "text": [
      "[1, 3, 4, 5]\n"
     ]
    }
   ],
   "source": [
    "# 11  Write a code to remove all occurrences of a specific element from a list\u0012\n",
    "def remove_ele(list, element):\n",
    "    return [x for x in list if x != element]\n",
    "\n",
    "\n",
    "new_list = remove_ele([1, 2, 3, 4, 2, 5, 2], 2)\n",
    "print(new_list)"
   ]
  },
  {
   "cell_type": "code",
   "execution_count": 25,
   "id": "278e6207-2e70-498b-9daa-f06ff40d8573",
   "metadata": {},
   "outputs": [
    {
     "name": "stdout",
     "output_type": "stream",
     "text": [
      "5\n"
     ]
    }
   ],
   "source": [
    "# 12 \"\u001c",
    "\u0012 Implement a code to find the second largest number in a given list of integers\u0012\n",
    "def second_largest(list):\n",
    "     max_element = max(list) \n",
    "     list.remove(max_element)\n",
    "     return max(list)\n",
    "result = second_largest([1,2,3,4,5,44])\n",
    "print(result)\n",
    "    "
   ]
  },
  {
   "cell_type": "code",
   "execution_count": 7,
   "id": "b00d2481-357a-4942-a1f8-0e10a1fd4bf5",
   "metadata": {},
   "outputs": [
    {
     "name": "stdout",
     "output_type": "stream",
     "text": [
      "{'apple': 2, 'kiwi': 2, 'mango': 2, 'chickoo': 1}\n"
     ]
    }
   ],
   "source": [
    "# 13 Create a code to count the occurrences of each element in a list and return a dictionary with elements as\n",
    "# keys and their counts as values\n",
    "\n",
    "def occurrences(list):\n",
    "    \n",
    "    occurence_list = {}\n",
    "    for element in list:\n",
    "        if element in occurence_list:\n",
    "            occurence_list[element] += 1\n",
    "         \n",
    "        else:\n",
    "            occurence_list[element] = 1\n",
    " \n",
    "    return occurence_list\n",
    "\n",
    "result = occurrences([\"apple\", \"kiwi\", \"mango\", \"apple\", \"kiwi\", \"mango\",\"chickoo\"])\n",
    "print(result)\n",
    "    \n"
   ]
  },
  {
   "cell_type": "code",
   "execution_count": 9,
   "id": "4f8de1a3-0871-4a7e-997b-af8fe90e9c96",
   "metadata": {},
   "outputs": [
    {
     "name": "stdout",
     "output_type": "stream",
     "text": [
      "['chickoo', 'mango', 'kiwi', 'apple']\n"
     ]
    }
   ],
   "source": [
    "# 14 \"\u0011\u0012 Write a code to reverse a list in-place without using any built-in reverse functions\u0012\n",
    "\n",
    "def reverse(list):\n",
    "    \n",
    "    reverse = []\n",
    "    for i  in range(len(list)-1 , -1, -1):\n",
    "        reverse.append(list[i])\n",
    "    return reverse\n",
    "\n",
    "result = reverse([\"apple\", \"kiwi\", \"mango\", \"chickoo\"])\n",
    "print(result)\n"
   ]
  },
  {
   "cell_type": "code",
   "execution_count": 13,
   "id": "4eb32535-5a03-4a83-9a23-c78a044dd401",
   "metadata": {},
   "outputs": [
    {
     "name": "stdout",
     "output_type": "stream",
     "text": [
      "[3, 1, 2, 4, 5]\n"
     ]
    }
   ],
   "source": [
    "# 15 \" \u0012 Implement a code to find and remove duplicates from a list while preserving the original order of\n",
    "# elements\n",
    "\n",
    "def remove_duplicate(list):\n",
    "  \n",
    "    result = []\n",
    "    for item in list:\n",
    "        if item not in result:\n",
    "            result.append(item)\n",
    "            \n",
    "    return result\n",
    "\n",
    "original_list = [3, 1, 2, 4, 2, 1, 5, 3]\n",
    "unique_result = remove_duplicate(original_list)\n",
    "print(unique_result)\n",
    "    \n",
    "    \n",
    "    \n"
   ]
  },
  {
   "cell_type": "code",
   "execution_count": 20,
   "id": "43dafd87-07a0-4504-8639-2320ed80bbd2",
   "metadata": {},
   "outputs": [
    {
     "name": "stdout",
     "output_type": "stream",
     "text": [
      "True\n",
      "False\n"
     ]
    }
   ],
   "source": [
    "# 16 \"$\u0012 Create a code to check if a given list is sorted (either in ascending or descending order) or not\u0012\n",
    "\n",
    "def is_sorted(list):\n",
    "    return list == sorted(list) or list == sorted(list, reverse=True)\n",
    "\n",
    "ascending_list = [1, 2, 3, 4, 5]\n",
    "descending_list = [5,4,3,2,1,88]\n",
    "\n",
    "print(is_sorted(ascending_list))\n",
    "print(is_sorted(descending_list))"
   ]
  },
  {
   "cell_type": "code",
   "execution_count": 12,
   "id": "1e5e9e59-4512-408e-bb72-34de28a43430",
   "metadata": {},
   "outputs": [
    {
     "name": "stdout",
     "output_type": "stream",
     "text": [
      "[1, 2, 3, 4, 5, 6, 7, 8, 22, 45, 55, 66, 9, 4, 55, 33, 66, 77, 100]\n"
     ]
    }
   ],
   "source": [
    "# 17 \u0012 Write a code to merge two sorted lists into a single sorted list\u0012\n",
    "\n",
    "def sorted(list1, list2):\n",
    "    merge_list = []\n",
    "    i,j = 0, 0\n",
    "    \n",
    "    while i <  len(list1) and j < len(list2):\n",
    "        if list1[i] <= list2[j]:\n",
    "            merge_list.append(list1[i])\n",
    "            i+=1\n",
    "            \n",
    "        else:\n",
    "            merge_list.append(list2[j])\n",
    "            j+=1\n",
    "            \n",
    "    while i < len(list1):\n",
    "        merge_list.append(list1[i])\n",
    "        i+=1\n",
    "        \n",
    "    while j < len(list2):\n",
    "        merge_list.append(list2[j])\n",
    "        j+=1\n",
    "            \n",
    "    return merge_list            \n",
    "                \n",
    "list1 = [1,3,5,7,55,66,9,4,55,33]\n",
    "list2 = [2,4,6,8,22,45,66,77,100]\n",
    "\n",
    "merged_list = sorted(list1,list2)\n",
    "print(merged_list)\n",
    "    \n"
   ]
  },
  {
   "cell_type": "code",
   "execution_count": 15,
   "id": "e353ea76-53ee-4797-b4ff-19682097e16e",
   "metadata": {},
   "outputs": [
    {
     "name": "stdout",
     "output_type": "stream",
     "text": [
      "[1, 2, 3, 4, 5, 66, 99, 995, 51555, 777, 44, 55, 666]\n"
     ]
    }
   ],
   "source": [
    "# 19 \"Create a code to find the union of two lists without duplicates\u0012\n",
    "\n",
    "def union(lists):\n",
    "    list1, list2 = lists\n",
    "    union_set  = set(list1+list2)\n",
    "\n",
    "    return list(union_set)\n",
    "\n",
    "input_list = [1,2,3,4,5,5,5,5,5,5,66,66,66,66,99,99,995],[44,44,44,44,99,99,55,55,3,2,1,51555,666,777]\n",
    "result = union(input_list)\n",
    "print(result)\n",
    "    \n"
   ]
  },
  {
   "cell_type": "code",
   "execution_count": 1,
   "id": "f02006fe-2665-46aa-b41f-eb38ebacbc19",
   "metadata": {},
   "outputs": [],
   "source": [
    "# 20 Write a code to shuffle a given list randomly without using any built-in shuffle functions\n",
    "\n",
    "\n",
    "\n"
   ]
  },
  {
   "cell_type": "code",
   "execution_count": null,
   "id": "8aa96569-9254-4cf5-9bb8-f40355dfeb7c",
   "metadata": {},
   "outputs": [],
   "source": [
    "# 21 write a code that takes two tuples as input and returns a new tuple containing elements that are\n",
    "#common to both input tuples\n",
    "\n",
    "def common_elements(tuples):\n",
    "    tuple1,tuple2 = tuples\n",
    "    \n",
    "    # set1 = set(tuple1)\n",
    "    # set2 = set(tuple2)\n",
    "    \n",
    "    return tuple(set(tuple1) & set(tuple2))\n",
    "    \n",
    "    \n",
    "    # return new_tuple\n",
    "input_tuple = (1,2,3,4),(1,2,3,4,4,5,6)\n",
    "result = common_elements(input_tuple)\n",
    "print(result)\n"
   ]
  },
  {
   "cell_type": "code",
   "execution_count": 3,
   "id": "e1c8e69b-efef-47bd-8c32-5763ea62d1d5",
   "metadata": {},
   "outputs": [
    {
     "name": "stdin",
     "output_type": "stream",
     "text": [
      "Enter the first set of integers 1,2,3,4\n",
      "Enter the second set of integers 3,4,2\n"
     ]
    },
    {
     "name": "stdout",
     "output_type": "stream",
     "text": [
      "Intersection of the two sets: {2, 3, 4}\n"
     ]
    }
   ],
   "source": [
    "# 22 eate a code that prompts the user to enter two sets of integers separated by commas. Then, print the\n",
    "# intersection of these two sets\n",
    "\n",
    "def get_set_from_input(prompt):\n",
    "\n",
    "    return set(map(int, input(prompt).split(',')))\n",
    "\n",
    "\n",
    "set1 = get_set_from_input(\"Enter the first set of integers\")\n",
    "\n",
    "\n",
    "set2 = get_set_from_input(\"Enter the second set of integers\")\n",
    "\n",
    "\n",
    "intersection_set = set1 & set2\n",
    "\n",
    "\n",
    "print(\"Intersection of the two sets:\", intersection_set)\n",
    "\n"
   ]
  },
  {
   "cell_type": "code",
   "execution_count": 5,
   "id": "a5d54d2e-859d-4401-b995-163796a51eee",
   "metadata": {},
   "outputs": [
    {
     "name": "stdin",
     "output_type": "stream",
     "text": [
      "Enter first Tuple 1,2,3,4\n",
      "Enter second string 4,3,2,1\n"
     ]
    },
    {
     "name": "stdout",
     "output_type": "stream",
     "text": [
      "(1, 2, 3, 4, 4, 3, 2, 1)\n"
     ]
    }
   ],
   "source": [
    "# 23  Write a code to concatenate two tuples. The function should take two tuples as input and return a new\n",
    "#tuple containing elements from both input tuples\n",
    "\n",
    "tuple1 = tuple(map(int, input(\"Enter first Tuple\").split(\",\")))\n",
    "tuple2 = tuple(map(int, input(\"Enter second string\").split(\",\")))\n",
    "\n",
    "\n",
    "def my_tuple(tuple1,tuple2):\n",
    "    \n",
    "    return tuple1 + tuple2\n",
    "    \n",
    "    \n",
    "result = my_tuple(tuple1,tuple2)\n",
    "print(result)\n",
    "    \n",
    "    \n",
    "    "
   ]
  },
  {
   "cell_type": "code",
   "execution_count": 1,
   "id": "7b507f5b-0946-4e70-9275-dea8a2ee0af6",
   "metadata": {},
   "outputs": [
    {
     "name": "stdin",
     "output_type": "stream",
     "text": [
      "Enter your First Set apple,banana,kiwi\n",
      "Enter Your Second Set kiwi,orange,mango\n"
     ]
    },
    {
     "name": "stdout",
     "output_type": "stream",
     "text": [
      "{'banana', 'apple'}\n"
     ]
    }
   ],
   "source": [
    "# 24 Develop a code that prompts the user to input two sets of strings. Then, print the elements that are\n",
    "# present in the first set but not in the second set&\n",
    "\n",
    "def string_set(prompt):\n",
    "    return set(input(prompt).split(\",\"))\n",
    "    \n",
    "\n",
    "set1 = string_set(\"Enter your First Set\")\n",
    "set2 = string_set(\"Enter Your Second Set\")\n",
    "\n",
    "result =  set1 - set2\n",
    "\n",
    "print(result)\n",
    "    \n"
   ]
  },
  {
   "cell_type": "code",
   "execution_count": 15,
   "id": "f6d7a11a-60de-4b7c-83c3-abdb007e43ac",
   "metadata": {},
   "outputs": [
    {
     "name": "stdin",
     "output_type": "stream",
     "text": [
      "Enter First String 1\n",
      "Enter Second String 2\n"
     ]
    },
    {
     "name": "stdout",
     "output_type": "stream",
     "text": [
      "{'2', '1'}\n"
     ]
    }
   ],
   "source": [
    "# 26  Write a code that prompts the user to input two sets of characters. Then, print the union of these two sets&\n",
    "def input_to_set(prompt):\n",
    "    return set(input(prompt).split(\",\"))\n",
    "\n",
    "set1 = input_to_set(\"Enter First String\")\n",
    "set2 = input_to_set(\"Enter Second String\")\n",
    "\n",
    "two_set = set1 | set2\n",
    "\n",
    "\n",
    "print(two_set)"
   ]
  },
  {
   "cell_type": "code",
   "execution_count": 14,
   "id": "ba1d19f5-386b-416e-a46f-6fa7c671b6f5",
   "metadata": {},
   "outputs": [
    {
     "name": "stdout",
     "output_type": "stream",
     "text": [
      "(3, 4, 5)\n"
     ]
    }
   ],
   "source": [
    "# 25 Create a code that takes a tuple and two integers as input. The function should return a new tuple\n",
    "# containing elements from the original tuple within the specified range of indices\n",
    "\n",
    "def new_tuple(input_tuple,start_index,end_index):\n",
    "    return input_tuple[start_index:end_index]\n",
    "    \n",
    "\n",
    "input_tuple = (1, 2, 3, 4, 5, 6, 7, 8, 9, 10)\n",
    "start_index = 2\n",
    "end_index = 5\n",
    "\n",
    "result  = new_tuple(input_tuple,start_index,end_index)\n",
    "print(result)"
   ]
  },
  {
   "cell_type": "code",
   "execution_count": 5,
   "id": "409412ea-c919-4311-ac86-004e468d139f",
   "metadata": {},
   "outputs": [
    {
     "name": "stdin",
     "output_type": "stream",
     "text": [
      "ENter digits:  1,2,3,4,5,666,7777,8888\n"
     ]
    },
    {
     "name": "stdout",
     "output_type": "stream",
     "text": [
      "max Number is  8888\n",
      "Min Number is 1\n"
     ]
    }
   ],
   "source": [
    "# 27 Develop a code that takes a tuple of integers as input. The function should return the maximum and\n",
    "# minimum values from the tuple using tuple unpacking\n",
    "\n",
    "\n",
    "def max_min(input_tuple):\n",
    "    max_value = max(input_tuple)\n",
    "    min_value = min(input_tuple)\n",
    "    \n",
    "    return max_value, min_value\n",
    "\n",
    "\n",
    "input_tuple = tuple(map(int, input(\"ENter digits: \").split(\",\")))\n",
    "\n",
    "max_value, min_value = max_min(input_tuple)\n",
    "\n",
    "print(\"max Number is \", max_value)\n",
    "print(\"Min Number is\", min_value)\n",
    "    \n",
    "    "
   ]
  },
  {
   "cell_type": "code",
   "execution_count": 8,
   "id": "582ae3e6-ab63-4f4e-a00a-1aaa9d556a1d",
   "metadata": {},
   "outputs": [
    {
     "name": "stdout",
     "output_type": "stream",
     "text": [
      "Union of the two sets: {1, 2, 3, 4, 5, 6, 7, 8}\n",
      "Union of the two sets: {4, 5}\n",
      "Union of the two sets: {1, 2, 3}\n",
      "Difference of : {8, 6, 7}\n"
     ]
    }
   ],
   "source": [
    "# 28'\u0007& Create a code that defines two sets of integers. Then, print the union, intersection, and difference of these\n",
    "#two sets&\n",
    "\n",
    "\n",
    "set1 = {1, 2, 3, 4, 5}\n",
    "set2 = {4, 5, 6, 7, 8}\n",
    "\n",
    "union_set  = set1 | set2\n",
    "\n",
    "print(\"Union of the two sets:\", union_set)\n",
    "\n",
    "intersection = set1 & set2\n",
    "\n",
    "print(\"Union of the two sets:\", intersection)\n",
    "\n",
    "difference_set = set1 - set2\n",
    "\n",
    "print(\"Union of the two sets:\", difference_set)\n",
    "\n",
    "\n",
    "difference_set2 = set2 - set1  \n",
    "print(\"Difference of :\", difference_set2)\n"
   ]
  },
  {
   "cell_type": "code",
   "execution_count": 14,
   "id": "a8370af3-9bb7-47cf-b5e0-492fa9def46f",
   "metadata": {},
   "outputs": [
    {
     "name": "stdin",
     "output_type": "stream",
     "text": [
      "Enter tuple of Integers 1,2,3,2,3,2,3,2,4,4,5\n",
      "Enter the Element to Count:  2\n"
     ]
    },
    {
     "name": "stdout",
     "output_type": "stream",
     "text": [
      "4\n"
     ]
    }
   ],
   "source": [
    "# 29 Write a code that takes a tuple and an element as input. The function should return the count of\n",
    "# occurrences of the given element in the tuple\n",
    "\n",
    "def occurence(input_tuple,element):\n",
    "    \n",
    "    return input_tuple.count(element)\n",
    "\n",
    "input_tuple = tuple(map(int, input(\"Enter tuple of Integers\").split(\",\")))\n",
    "\n",
    "element = int(input(\"Enter the Element to Count: \"))\n",
    "\n",
    "\n",
    "\n",
    "result = occurence(input_tuple,element)\n",
    "\n",
    "print(result)\n"
   ]
  },
  {
   "cell_type": "code",
   "execution_count": 15,
   "id": "ea4ade44-3684-4112-9e27-26a051c9d918",
   "metadata": {},
   "outputs": [
    {
     "name": "stdin",
     "output_type": "stream",
     "text": [
      "Enter First  set String:  apple,banana,mango\n",
      "Enter Second String : kiwi, chickoo,banana\n"
     ]
    },
    {
     "name": "stdout",
     "output_type": "stream",
     "text": [
      "{'kiwi', 'mango', 'apple', ' chickoo'}\n"
     ]
    }
   ],
   "source": [
    "# 30 Develop a code that prompts the user to input two sets of strings. Then, print the symmetric difference of\n",
    "# these two sets&\n",
    "\n",
    "\n",
    "def symmetric(prompt):\n",
    "    \n",
    "    return set(input(prompt).split(\",\"))\n",
    "\n",
    "set1 = symmetric(\"Enter First  set String: \")\n",
    "set2 = symmetric(\"Enter Second String :\")\n",
    "\n",
    "result = set1 ^ set2\n",
    "\n",
    "\n",
    "print(result)\n",
    "\n"
   ]
  },
  {
   "cell_type": "code",
   "execution_count": 17,
   "id": "fd036de9-bbe0-409a-89e6-f802454bec84",
   "metadata": {},
   "outputs": [
    {
     "name": "stdout",
     "output_type": "stream",
     "text": [
      "{'apple': 2, 'banana': 2, 'chickoo': 1, 'kiwi': 2}\n"
     ]
    }
   ],
   "source": [
    "# 31 Write a code that takes a list of words as input and returns a dictionary where the keys are unique words\n",
    "# and the values are the frequencies of those words in the input list\n",
    "\n",
    "def word_frequencies(list):\n",
    "    freq_dict = {}\n",
    "    \n",
    "    for word in list:\n",
    "        if word in freq_dict:\n",
    "            freq_dict[word] +=1\n",
    "        \n",
    "        else:    \n",
    "            freq_dict[word] = 1 \n",
    "\n",
    "    return freq_dict\n",
    "\n",
    "result = word_frequencies([\"apple\",\"banana\",\"apple\",\"chickoo\",\"kiwi\",\"kiwi\",\"banana\"])\n",
    "\n",
    "print(result)"
   ]
  },
  {
   "cell_type": "code",
   "execution_count": 1,
   "id": "54997516-b873-484c-b690-489c458f35e0",
   "metadata": {},
   "outputs": [
    {
     "name": "stdout",
     "output_type": "stream",
     "text": [
      "{'apple': 5, 'banana': 5, 'orange': 1, 'cherry': 5}\n"
     ]
    }
   ],
   "source": [
    "# 32 Write a code that takes two dictionaries as input and merges them into a single dictionary. If there are\n",
    "# common keys, the values should be added together\n",
    "\n",
    "\n",
    "def merge_dictionaries(dict1, dict2):\n",
    "    \n",
    "    merged_dict = {}\n",
    "    \n",
    "    for key, value in dict1.items():\n",
    "        merged_dict[key] = value \n",
    "    \n",
    "   \n",
    "    for key, value in dict2.items():\n",
    "        if key in merged_dict:\n",
    "            merged_dict[key] += value \n",
    "            \n",
    "        else :\n",
    "            merged_dict[key] = value\n",
    "   \n",
    "    return merged_dict\n",
    "\n",
    "dict1 = {'apple': 4, 'banana': 2, 'orange': 1}\n",
    "dict2 = {'banana': 3, 'cherry': 5, 'apple': 1}\n",
    "\n",
    "result = merge_dictionaries(dict1,dict2)\n",
    "\n",
    "print(result)\n",
    "    \n",
    "    "
   ]
  },
  {
   "cell_type": "code",
   "execution_count": 8,
   "id": "24a1a202-90f3-4f6f-b355-df44896b27e4",
   "metadata": {},
   "outputs": [
    {
     "name": "stdout",
     "output_type": "stream",
     "text": [
      "a\n",
      "b\n",
      "c\n",
      "42\n"
     ]
    }
   ],
   "source": [
    "# 33 write a code to access a value in a nested dictionary. The function should take the dictionary and a list of\n",
    "#  keys as input, and return the corresponding value. If any of the keys do not exist in the dictionary, the\n",
    "#  function should return None&\n",
    "\n",
    "\n",
    "def get_nested_value(dictionary, keys):\n",
    "    for key in keys:\n",
    "        print(key)\n",
    "        if key in dictionary:\n",
    "            dictionary = dictionary[key]\n",
    "        else:\n",
    "            return None\n",
    "    return dictionary\n",
    "\n",
    "\n",
    "nested_dict = {\n",
    "    'a': {\n",
    "        'b': {\n",
    "            'c': 42\n",
    "        },\n",
    "        'd': 99\n",
    "    },\n",
    "    'e': 100\n",
    "}\n",
    "\n",
    "keys_list = ['a', 'b', 'c']\n",
    "\n",
    "result = get_nested_value(nested_dict, keys_list)\n",
    "print(result)\n"
   ]
  },
  {
   "cell_type": "code",
   "execution_count": 8,
   "id": "872d756e-ae04-4845-89c7-e99a2b44d702",
   "metadata": {},
   "outputs": [
    {
     "ename": "SyntaxError",
     "evalue": "incomplete input (1199161704.py, line 6)",
     "output_type": "error",
     "traceback": [
      "\u001b[0;36m  Cell \u001b[0;32mIn[8], line 6\u001b[0;36m\u001b[0m\n\u001b[0;31m    \u001b[0m\n\u001b[0m    ^\u001b[0m\n\u001b[0;31mSyntaxError\u001b[0m\u001b[0;31m:\u001b[0m incomplete input\n"
     ]
    }
   ],
   "source": [
    "# 34 Write a code that takes a dictionary as input and returns a sorted version of it based on the values. You\n",
    "# can choose whether to sort in ascending or descending order&\n",
    "\n",
    "def dictionary():\n",
    "    \n",
    "\n"
   ]
  },
  {
   "cell_type": "code",
   "execution_count": 9,
   "id": "1265eb55-4955-4b29-b616-c11219310c57",
   "metadata": {},
   "outputs": [
    {
     "name": "stdout",
     "output_type": "stream",
     "text": [
      "Inverted dictionary: {1: ['apple', 'cherry'], 2: ['banana', 'elderberry'], 3: ['date']}\n"
     ]
    }
   ],
   "source": [
    "# 35 & Write a code that inverts a dictionary, swapping keys and values. Ensure that the inverted dictionary\n",
    "#correctly handles cases where multiple keys have the same value by storing the keys as a list in the\n",
    "# inverted dictionary\n",
    "\n",
    "def invert_dict(input_dict):\n",
    "    inverted_dict = {}\n",
    "    for key, value in input_dict.items():\n",
    "        if value not in inverted_dict:\n",
    "            inverted_dict[value] = [key]\n",
    "        else:\n",
    "            inverted_dict[value].append(key)\n",
    "    return inverted_dict\n",
    "\n",
    "# Example usage\n",
    "example_dict = {\n",
    "    'apple': 1,\n",
    "    'banana': 2,\n",
    "    'cherry': 1,\n",
    "    'date': 3,\n",
    "    'elderberry': 2\n",
    "}\n",
    "\n",
    "inverted_dict = invert_dict(example_dict)\n",
    "print(\"Inverted dictionary:\", inverted_dict)\n"
   ]
  },
  {
   "cell_type": "code",
   "execution_count": null,
   "id": "9c87a7de-6e49-4657-80f9-52e777dd3ff2",
   "metadata": {},
   "outputs": [],
   "source": []
  }
 ],
 "metadata": {
  "kernelspec": {
   "display_name": "Python 3 (ipykernel)",
   "language": "python",
   "name": "python3"
  },
  "language_info": {
   "codemirror_mode": {
    "name": "ipython",
    "version": 3
   },
   "file_extension": ".py",
   "mimetype": "text/x-python",
   "name": "python",
   "nbconvert_exporter": "python",
   "pygments_lexer": "ipython3",
   "version": "3.10.8"
  }
 },
 "nbformat": 4,
 "nbformat_minor": 5
}
